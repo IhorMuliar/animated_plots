{
 "cells": [
  {
   "cell_type": "markdown",
   "metadata": {},
   "source": [
    "<h1 id=\"basics\" style=\"font-family:verdana;\"> \n",
    "    <center>1. Setup</center>\n",
    "</h1>"
   ]
  },
  {
   "cell_type": "markdown",
   "metadata": {},
   "source": [
    "<div style=\"font-family:verdana; word-spacing:1.5px;\">\n",
    "    <h3 id=\"italic\">\n",
    "        1.1 loading the libraries\n",
    "    </h3>\n",
    "</div>"
   ]
  },
  {
   "cell_type": "code",
   "execution_count": 2,
   "metadata": {},
   "outputs": [],
   "source": [
    "import pandas as pd\n",
    "import numpy as np\n",
    "\n",
    "from IPython.display import HTML\n",
    "\n",
    "import gif\n",
    "import seaborn as sns\n",
    "import matplotlib.pyplot as plt\n",
    "plt.style.use('fivethirtyeight')"
   ]
  },
  {
   "cell_type": "markdown",
   "metadata": {},
   "source": [
    "<div style=\"font-family:verdana; word-spacing:1.5px;\">\n",
    "    <h3 id=\"italic\">\n",
    "        1.2 Importing data\n",
    "    </h3>\n",
    "</div>\n",
    "\n",
    "<div style=\"font-family:verdana; word-spacing:1.5px;\">\n",
    "    I am using the data from Kaggle: <a href=\"https://www.kaggle.com/jeanmidev/smart-meters-in-london\" target=\"blank_\">source</a>.\n",
    "</div>"
   ]
  },
  {
   "cell_type": "code",
   "execution_count": 3,
   "metadata": {},
   "outputs": [],
   "source": [
    "data = pd.read_csv('data.csv')"
   ]
  },
  {
   "cell_type": "code",
   "execution_count": 4,
   "metadata": {},
   "outputs": [
    {
     "data": {
      "text/html": [
       "<div>\n",
       "<style scoped>\n",
       "    .dataframe tbody tr th:only-of-type {\n",
       "        vertical-align: middle;\n",
       "    }\n",
       "\n",
       "    .dataframe tbody tr th {\n",
       "        vertical-align: top;\n",
       "    }\n",
       "\n",
       "    .dataframe thead th {\n",
       "        text-align: right;\n",
       "    }\n",
       "</style>\n",
       "<table border=\"1\" class=\"dataframe\">\n",
       "  <thead>\n",
       "    <tr style=\"text-align: right;\">\n",
       "      <th></th>\n",
       "      <th>visibility</th>\n",
       "      <th>windBearing</th>\n",
       "      <th>temperature</th>\n",
       "      <th>time</th>\n",
       "      <th>dewPoint</th>\n",
       "      <th>pressure</th>\n",
       "      <th>apparentTemperature</th>\n",
       "      <th>windSpeed</th>\n",
       "      <th>precipType</th>\n",
       "      <th>icon</th>\n",
       "      <th>humidity</th>\n",
       "      <th>summary</th>\n",
       "    </tr>\n",
       "  </thead>\n",
       "  <tbody>\n",
       "    <tr>\n",
       "      <th>0</th>\n",
       "      <td>5.97</td>\n",
       "      <td>104</td>\n",
       "      <td>10.24</td>\n",
       "      <td>2011-11-11 00:00:00</td>\n",
       "      <td>8.86</td>\n",
       "      <td>1016.76</td>\n",
       "      <td>10.24</td>\n",
       "      <td>2.77</td>\n",
       "      <td>rain</td>\n",
       "      <td>partly-cloudy-night</td>\n",
       "      <td>0.91</td>\n",
       "      <td>Partly Cloudy</td>\n",
       "    </tr>\n",
       "    <tr>\n",
       "      <th>1</th>\n",
       "      <td>4.88</td>\n",
       "      <td>99</td>\n",
       "      <td>9.76</td>\n",
       "      <td>2011-11-11 01:00:00</td>\n",
       "      <td>8.83</td>\n",
       "      <td>1016.63</td>\n",
       "      <td>8.24</td>\n",
       "      <td>2.95</td>\n",
       "      <td>rain</td>\n",
       "      <td>partly-cloudy-night</td>\n",
       "      <td>0.94</td>\n",
       "      <td>Partly Cloudy</td>\n",
       "    </tr>\n",
       "    <tr>\n",
       "      <th>2</th>\n",
       "      <td>3.70</td>\n",
       "      <td>98</td>\n",
       "      <td>9.46</td>\n",
       "      <td>2011-11-11 02:00:00</td>\n",
       "      <td>8.79</td>\n",
       "      <td>1016.36</td>\n",
       "      <td>7.76</td>\n",
       "      <td>3.17</td>\n",
       "      <td>rain</td>\n",
       "      <td>partly-cloudy-night</td>\n",
       "      <td>0.96</td>\n",
       "      <td>Partly Cloudy</td>\n",
       "    </tr>\n",
       "    <tr>\n",
       "      <th>3</th>\n",
       "      <td>3.12</td>\n",
       "      <td>99</td>\n",
       "      <td>9.23</td>\n",
       "      <td>2011-11-11 03:00:00</td>\n",
       "      <td>8.63</td>\n",
       "      <td>1016.28</td>\n",
       "      <td>7.44</td>\n",
       "      <td>3.25</td>\n",
       "      <td>rain</td>\n",
       "      <td>fog</td>\n",
       "      <td>0.96</td>\n",
       "      <td>Foggy</td>\n",
       "    </tr>\n",
       "    <tr>\n",
       "      <th>4</th>\n",
       "      <td>1.85</td>\n",
       "      <td>111</td>\n",
       "      <td>9.26</td>\n",
       "      <td>2011-11-11 04:00:00</td>\n",
       "      <td>9.21</td>\n",
       "      <td>1015.98</td>\n",
       "      <td>7.24</td>\n",
       "      <td>3.70</td>\n",
       "      <td>rain</td>\n",
       "      <td>fog</td>\n",
       "      <td>1.00</td>\n",
       "      <td>Foggy</td>\n",
       "    </tr>\n",
       "  </tbody>\n",
       "</table>\n",
       "</div>"
      ],
      "text/plain": [
       "   visibility  windBearing  temperature                 time  dewPoint  \\\n",
       "0        5.97          104        10.24  2011-11-11 00:00:00      8.86   \n",
       "1        4.88           99         9.76  2011-11-11 01:00:00      8.83   \n",
       "2        3.70           98         9.46  2011-11-11 02:00:00      8.79   \n",
       "3        3.12           99         9.23  2011-11-11 03:00:00      8.63   \n",
       "4        1.85          111         9.26  2011-11-11 04:00:00      9.21   \n",
       "\n",
       "   pressure  apparentTemperature  windSpeed precipType                 icon  \\\n",
       "0   1016.76                10.24       2.77       rain  partly-cloudy-night   \n",
       "1   1016.63                 8.24       2.95       rain  partly-cloudy-night   \n",
       "2   1016.36                 7.76       3.17       rain  partly-cloudy-night   \n",
       "3   1016.28                 7.44       3.25       rain                  fog   \n",
       "4   1015.98                 7.24       3.70       rain                  fog   \n",
       "\n",
       "   humidity        summary  \n",
       "0      0.91  Partly Cloudy  \n",
       "1      0.94  Partly Cloudy  \n",
       "2      0.96  Partly Cloudy  \n",
       "3      0.96          Foggy  \n",
       "4      1.00          Foggy  "
      ]
     },
     "execution_count": 4,
     "metadata": {},
     "output_type": "execute_result"
    }
   ],
   "source": [
    "data.head()"
   ]
  },
  {
   "cell_type": "code",
   "execution_count": 5,
   "metadata": {},
   "outputs": [
    {
     "name": "stdout",
     "output_type": "stream",
     "text": [
      "Dataset shape:  (21165, 12)\n"
     ]
    }
   ],
   "source": [
    "print('Dataset shape: ', data.shape)"
   ]
  },
  {
   "cell_type": "markdown",
   "metadata": {},
   "source": [
    "<h1 id=\"basics\" style=\"font-family:verdana;\"> \n",
    "    <center>2. Data Preprocessing</center>\n",
    "</h1>"
   ]
  },
  {
   "cell_type": "markdown",
   "metadata": {},
   "source": [
    "<div style=\"font-family:verdana; word-spacing:1.5px;\">\n",
    "    <h3 id=\"italic\">\n",
    "        2.1 Renaming the time coloumn\n",
    "    </h3>\n",
    "</div>"
   ]
  },
  {
   "cell_type": "code",
   "execution_count": 6,
   "metadata": {},
   "outputs": [],
   "source": [
    "data = data.rename(columns={\"time\": \"date\"})"
   ]
  },
  {
   "cell_type": "markdown",
   "metadata": {},
   "source": [
    "<div style=\"font-family:verdana; word-spacing:1.5px;\">\n",
    "    <h3 id=\"italic\">\n",
    "        2.2 Converting it to the appropriate date format\n",
    "    </h3>\n",
    "</div>"
   ]
  },
  {
   "cell_type": "code",
   "execution_count": 7,
   "metadata": {},
   "outputs": [],
   "source": [
    "data['date'] = pd.to_datetime(data['date'])"
   ]
  },
  {
   "cell_type": "markdown",
   "metadata": {},
   "source": [
    "<div style=\"font-family:verdana; word-spacing:1.5px;\">\n",
    "    <h3 id=\"italic\">\n",
    "        2.3 Indexing the date and droping the column\n",
    "    </h3>\n",
    "</div>"
   ]
  },
  {
   "cell_type": "code",
   "execution_count": 8,
   "metadata": {},
   "outputs": [],
   "source": [
    "data.set_index('date',drop=True, inplace=True)"
   ]
  },
  {
   "cell_type": "markdown",
   "metadata": {},
   "source": [
    "<div style=\"font-family:verdana; word-spacing:1.5px;\">\n",
    "    <h3 id=\"italic\">\n",
    "        2.4 Resampling on a monthly bases\n",
    "    </h3>\n",
    "</div>"
   ]
  },
  {
   "cell_type": "code",
   "execution_count": 9,
   "metadata": {},
   "outputs": [],
   "source": [
    "data = data.resample('M').mean()"
   ]
  },
  {
   "cell_type": "code",
   "execution_count": 10,
   "metadata": {},
   "outputs": [
    {
     "data": {
      "text/html": [
       "<div>\n",
       "<style scoped>\n",
       "    .dataframe tbody tr th:only-of-type {\n",
       "        vertical-align: middle;\n",
       "    }\n",
       "\n",
       "    .dataframe tbody tr th {\n",
       "        vertical-align: top;\n",
       "    }\n",
       "\n",
       "    .dataframe thead th {\n",
       "        text-align: right;\n",
       "    }\n",
       "</style>\n",
       "<table border=\"1\" class=\"dataframe\">\n",
       "  <thead>\n",
       "    <tr style=\"text-align: right;\">\n",
       "      <th></th>\n",
       "      <th>visibility</th>\n",
       "      <th>windBearing</th>\n",
       "      <th>temperature</th>\n",
       "      <th>dewPoint</th>\n",
       "      <th>pressure</th>\n",
       "      <th>apparentTemperature</th>\n",
       "      <th>windSpeed</th>\n",
       "      <th>humidity</th>\n",
       "    </tr>\n",
       "    <tr>\n",
       "      <th>date</th>\n",
       "      <th></th>\n",
       "      <th></th>\n",
       "      <th></th>\n",
       "      <th></th>\n",
       "      <th></th>\n",
       "      <th></th>\n",
       "      <th></th>\n",
       "      <th></th>\n",
       "    </tr>\n",
       "  </thead>\n",
       "  <tbody>\n",
       "    <tr>\n",
       "      <th>2011-11-30</th>\n",
       "      <td>8.215986</td>\n",
       "      <td>162.320833</td>\n",
       "      <td>10.595708</td>\n",
       "      <td>8.669917</td>\n",
       "      <td>1017.059139</td>\n",
       "      <td>10.004958</td>\n",
       "      <td>3.530500</td>\n",
       "      <td>0.883556</td>\n",
       "    </tr>\n",
       "    <tr>\n",
       "      <th>2011-12-31</th>\n",
       "      <td>12.519261</td>\n",
       "      <td>243.370968</td>\n",
       "      <td>7.087527</td>\n",
       "      <td>4.142728</td>\n",
       "      <td>1011.889664</td>\n",
       "      <td>4.624368</td>\n",
       "      <td>5.076720</td>\n",
       "      <td>0.819892</td>\n",
       "    </tr>\n",
       "    <tr>\n",
       "      <th>2012-01-31</th>\n",
       "      <td>11.484866</td>\n",
       "      <td>215.395161</td>\n",
       "      <td>6.776707</td>\n",
       "      <td>3.705578</td>\n",
       "      <td>1021.070349</td>\n",
       "      <td>4.701922</td>\n",
       "      <td>4.373333</td>\n",
       "      <td>0.813750</td>\n",
       "    </tr>\n",
       "    <tr>\n",
       "      <th>2012-02-29</th>\n",
       "      <td>10.541695</td>\n",
       "      <td>210.794540</td>\n",
       "      <td>4.868534</td>\n",
       "      <td>1.270101</td>\n",
       "      <td>1029.737687</td>\n",
       "      <td>2.829899</td>\n",
       "      <td>3.442011</td>\n",
       "      <td>0.783851</td>\n",
       "    </tr>\n",
       "    <tr>\n",
       "      <th>2012-03-31</th>\n",
       "      <td>9.320403</td>\n",
       "      <td>191.595430</td>\n",
       "      <td>9.307433</td>\n",
       "      <td>4.746989</td>\n",
       "      <td>1027.735833</td>\n",
       "      <td>8.151828</td>\n",
       "      <td>2.933952</td>\n",
       "      <td>0.752702</td>\n",
       "    </tr>\n",
       "  </tbody>\n",
       "</table>\n",
       "</div>"
      ],
      "text/plain": [
       "            visibility  windBearing  temperature  dewPoint     pressure  \\\n",
       "date                                                                      \n",
       "2011-11-30    8.215986   162.320833    10.595708  8.669917  1017.059139   \n",
       "2011-12-31   12.519261   243.370968     7.087527  4.142728  1011.889664   \n",
       "2012-01-31   11.484866   215.395161     6.776707  3.705578  1021.070349   \n",
       "2012-02-29   10.541695   210.794540     4.868534  1.270101  1029.737687   \n",
       "2012-03-31    9.320403   191.595430     9.307433  4.746989  1027.735833   \n",
       "\n",
       "            apparentTemperature  windSpeed  humidity  \n",
       "date                                                  \n",
       "2011-11-30            10.004958   3.530500  0.883556  \n",
       "2011-12-31             4.624368   5.076720  0.819892  \n",
       "2012-01-31             4.701922   4.373333  0.813750  \n",
       "2012-02-29             2.829899   3.442011  0.783851  \n",
       "2012-03-31             8.151828   2.933952  0.752702  "
      ]
     },
     "execution_count": 10,
     "metadata": {},
     "output_type": "execute_result"
    }
   ],
   "source": [
    "data.head()"
   ]
  },
  {
   "cell_type": "markdown",
   "metadata": {},
   "source": [
    "<h1 id=\"basics\" style=\"font-family:verdana;\"> \n",
    "    <center>3. Visualizing by animation</center>\n",
    "</h1>"
   ]
  },
  {
   "cell_type": "markdown",
   "metadata": {},
   "source": [
    "<div style=\"font-family:verdana; word-spacing:1.5px;\">\n",
    "    <h3 id=\"italic\">\n",
    "        3.1 The average temperature of the city\n",
    "    </h3>\n",
    "</div>"
   ]
  },
  {
   "cell_type": "code",
   "execution_count": 11,
   "metadata": {},
   "outputs": [],
   "source": [
    "#Defining the start and end dates\n",
    "END = data.index[-1]\n",
    "START = data.index[0]\n",
    "\n",
    "\n",
    "@gif.frame\n",
    "def plot(df, date):\n",
    "    df = df.loc[df.index[0]:pd.Timestamp(date)]\n",
    "    fig, (ax1) = plt.subplots(1, figsize=(10, 5), dpi=100)\n",
    "    ax1.plot(df.temperature, marker='o', linestyle='--', linewidth=3, markersize=10, color='tab:pink')\n",
    "    maxi = round(df.temperature.max() + 5)\n",
    "    ax1.set_title('Average Monthly Temperature in London over the 2012-2014', fontsize=20)\n",
    "    ax1.set_xlim([START, END])\n",
    "    ax1.set_ylim([0, maxi])\n",
    "    ax1.set_ylabel('Temperature C°', color='tab:blue', fontsize=17)"
   ]
  },
  {
   "cell_type": "code",
   "execution_count": 12,
   "metadata": {},
   "outputs": [],
   "source": [
    "frames = []\n",
    "for date in pd.date_range(start=data.index[0],\n",
    "                          end=data.index[-1], \n",
    "                          freq='1M'):\n",
    "    frame = plot(data, date)\n",
    "    frames.append(frame)"
   ]
  },
  {
   "cell_type": "code",
   "execution_count": 13,
   "metadata": {},
   "outputs": [
    {
     "data": {
      "text/html": [
       "<img src=\"./output.gif\" />"
      ],
      "text/plain": [
       "<IPython.core.display.HTML object>"
      ]
     },
     "execution_count": 13,
     "metadata": {},
     "output_type": "execute_result"
    }
   ],
   "source": [
    "#saving the GIF\n",
    "gif.save(frames, \"output.gif\", duration=0.5 ,unit = 's')\n",
    "\n",
    "#visualizing the GIF\n",
    "HTML('<img src=\"./output.gif\" />')"
   ]
  },
  {
   "cell_type": "markdown",
   "metadata": {},
   "source": [
    "<div style=\"font-family:verdana; word-spacing:1.5px;\">\n",
    "    <h3 id=\"italic\">\n",
    "        3.2 Adding some colour sections into the Animation\n",
    "    </h3>\n",
    "</div>"
   ]
  },
  {
   "cell_type": "code",
   "execution_count": 14,
   "metadata": {},
   "outputs": [],
   "source": [
    "@gif.frame\n",
    "def plot_split(df, date, split_date):\n",
    "    df = df.loc[df.index[0]:pd.Timestamp(date)]\n",
    "    fig, (ax1) = plt.subplots(1, figsize=(10, 5), dpi=100)\n",
    "\n",
    "    #TRAIN\n",
    "    if date < pd.Timestamp(split_date):\n",
    "        ax1.axvspan(START, date, alpha=0.5, color='#33FF92')\n",
    "        ax1.text(pd.Timestamp('2012-01-31'), y=12, s='Train', fontsize=20)  # where the train text goes\n",
    "    #TEST\n",
    "    if (date > pd.Timestamp(split_date)):\n",
    "        ax1.axvspan(pd.Timestamp(split_date), date, alpha=0.5, color='#F933FF')\n",
    "        ax1.text(pd.Timestamp('2014-01-31'), y=12, s='Test', fontsize=20)\n",
    "    ax1.plot(df.temperature, marker='o', linestyle='--', linewidth=3, markersize=10, color='tab:orange')\n",
    "    maxi = round(df.temperature.max() + 5)\n",
    "\n",
    "    ax1.set_title('Train/Test-Split', fontsize=20)\n",
    "    ax1.set_xlim([START, END])\n",
    "    ax1.set_ylim([0, maxi])\n",
    "    ax1.set_ylabel('Temperature C°', color='tab:blue', fontsize=17)"
   ]
  },
  {
   "cell_type": "code",
   "execution_count": 15,
   "metadata": {},
   "outputs": [],
   "source": [
    "frames = []\n",
    "for date in pd.date_range(start=data.index[0], end=data.index[-1], freq='1M'):\n",
    "    frame = plot_split(data, date, '2013-06-21')\n",
    "    frames.append(frame)\n",
    "\n",
    "gif.save(frames, \"output2.gif\", duration=0.5, unit='s')"
   ]
  },
  {
   "cell_type": "code",
   "execution_count": 16,
   "metadata": {},
   "outputs": [
    {
     "data": {
      "text/html": [
       "<img src=\"./output2.gif\" />"
      ],
      "text/plain": [
       "<IPython.core.display.HTML object>"
      ]
     },
     "execution_count": 16,
     "metadata": {},
     "output_type": "execute_result"
    }
   ],
   "source": [
    "HTML('<img src=\"./output2.gif\" />')"
   ]
  },
  {
   "cell_type": "markdown",
   "metadata": {},
   "source": [
    "<div style=\"font-family:verdana; word-spacing:1.5px;\">\n",
    "    <h3 id=\"italic\">\n",
    "        3.3 Subplot Animation\n",
    "    </h3>\n",
    "</div>"
   ]
  },
  {
   "cell_type": "code",
   "execution_count": 17,
   "metadata": {},
   "outputs": [],
   "source": [
    "@gif.frame\n",
    "def plot(df, date):\n",
    "    df = df.loc[df.index[0]:pd.Timestamp(date)]\n",
    "    fig, (ax1, ax2, ax3) = plt.subplots(3, figsize=(10, 5), dpi=100)\n",
    "\n",
    "    ax1.plot(df.temperature, marker='o', linestyle='--', linewidth=2, markersize=8, color='g')\n",
    "    maxi = round(df.temperature.max() + 5)\n",
    "    ax1.set_title('SUBPLOTS', fontsize=20)\n",
    "    ax1.set_xlim([START, END])\n",
    "    ax1.set_ylim([0, maxi])\n",
    "    ax1.set_ylabel('Temperature C°', color='green', fontsize=10)\n",
    "\n",
    "    ax2.plot(df.visibility, marker='o', linestyle='--', linewidth=2, markersize=8, color='r')\n",
    "    maxi = round(df.visibility.max() + 3)\n",
    "    ax2.set_xlim([START, END])\n",
    "    ax2.set_ylim([0, maxi])\n",
    "    ax2.set_ylabel('Visibility', color='red', fontsize=10)\n",
    "\n",
    "    ax3.plot(df.windSpeed, marker='o', linestyle='--', linewidth=2, markersize=8, color='b')\n",
    "    maxi = round(df.windSpeed.max() + 3)\n",
    "    ax3.set_xlim([START, END])\n",
    "    ax3.set_ylim([0, maxi])\n",
    "    ax3.set_ylabel('Windspeed', color='blue', fontsize=10)\n",
    "\n",
    "\n",
    "##### CREATE ANIMATIONS ######\n",
    "frames = []\n",
    "for date in pd.date_range(start=data.index[0], end=data.index[-1], freq='1M'):\n",
    "    frame = plot(data, date)\n",
    "    frames.append(frame)\n",
    "gif.save(frames, \"output3.gif\", duration=0.5, unit='s')"
   ]
  },
  {
   "cell_type": "code",
   "execution_count": 18,
   "metadata": {},
   "outputs": [
    {
     "data": {
      "text/html": [
       "<img src=\"./output3.gif\" />"
      ],
      "text/plain": [
       "<IPython.core.display.HTML object>"
      ]
     },
     "execution_count": 18,
     "metadata": {},
     "output_type": "execute_result"
    }
   ],
   "source": [
    "HTML('<img src=\"./output3.gif\" />')"
   ]
  }
 ],
 "metadata": {
  "kernelspec": {
   "display_name": "Python 3",
   "language": "python",
   "name": "python3"
  },
  "language_info": {
   "codemirror_mode": {
    "name": "ipython",
    "version": 3
   },
   "file_extension": ".py",
   "mimetype": "text/x-python",
   "name": "python",
   "nbconvert_exporter": "python",
   "pygments_lexer": "ipython3",
   "version": "3.8.5"
  },
  "varInspector": {
   "cols": {
    "lenName": 16,
    "lenType": 16,
    "lenVar": 40
   },
   "kernels_config": {
    "python": {
     "delete_cmd_postfix": "",
     "delete_cmd_prefix": "del ",
     "library": "var_list.py",
     "varRefreshCmd": "print(var_dic_list())"
    },
    "r": {
     "delete_cmd_postfix": ") ",
     "delete_cmd_prefix": "rm(",
     "library": "var_list.r",
     "varRefreshCmd": "cat(var_dic_list()) "
    }
   },
   "types_to_exclude": [
    "module",
    "function",
    "builtin_function_or_method",
    "instance",
    "_Feature"
   ],
   "window_display": false
  }
 },
 "nbformat": 4,
 "nbformat_minor": 1
}
